{
 "cells": [
  {
   "cell_type": "code",
   "execution_count": 113,
   "id": "4680822d-d79b-48a6-bf2a-1ae1031fe779",
   "metadata": {
    "colab": {
     "base_uri": "https://localhost:8080/",
     "height": 384
    },
    "executionInfo": {
     "elapsed": 6531,
     "status": "error",
     "timestamp": 1658945184644,
     "user": {
      "displayName": "Hope Success",
      "userId": "17571223600285474034"
     },
     "user_tz": -60
    },
    "id": "4680822d-d79b-48a6-bf2a-1ae1031fe779",
    "outputId": "bc75f3f1-7b49-4ea1-83fd-0cfa0f8f1db3"
   },
   "outputs": [],
   "source": [
    "# Import libraries\n",
    "import pandas as pd\n",
    "import numpy as np\n",
    "import matplotlib.pyplot as plt\n",
    "import matplotlib\n",
    "import seaborn as sns\n",
    "from sklearn.metrics import accuracy_score,f1_score,confusion_matrix,classification_report\n",
    "from sklearn.model_selection import train_test_split,cross_val_score,KFold,StratifiedKFold\n",
    "from sklearn.preprocessing import LabelEncoder, StandardScaler\n",
    "from sklearn.linear_model import LogisticRegression, LinearRegression,Ridge,Lasso,ElasticNet\n",
    "import lightgbm as lg\n",
    "import optuna\n",
    "from category_encoders import *\n",
    "from sklearn.pipeline import Pipeline\n",
    "\n",
    "\n",
    "import warnings\n",
    "warnings.filterwarnings('ignore')\n",
    "import pickle\n",
    "#Get your class weights\n",
    "\n",
    "from sklearn.utils.class_weight import compute_class_weight\n",
    "from sklearn.ensemble import RandomForestClassifier\n",
    "\n",
    "SEED = 123\n",
    "\n",
    "\n",
    "\n",
    "%matplotlib inline\n",
    "sns.set_style('darkgrid')\n",
    "matplotlib.rcParams[\"font.size\"] = 14\n",
    "matplotlib.rcParams[\"figure.figsize\"] = (9, 5)\n",
    "matplotlib.rcParams[\"figure.facecolor\"] = \"#00000000\""
   ]
  },
  {
   "cell_type": "code",
   "execution_count": 114,
   "id": "45be1070-7b22-4fac-ad0b-b50f128a5ff5",
   "metadata": {
    "executionInfo": {
     "elapsed": 154,
     "status": "aborted",
     "timestamp": 1658945184554,
     "user": {
      "displayName": "Hope Success",
      "userId": "17571223600285474034"
     },
     "user_tz": -60
    },
    "id": "45be1070-7b22-4fac-ad0b-b50f128a5ff5"
   },
   "outputs": [
    {
     "data": {
      "text/plain": [
       "{'ID': 'ID_ZPMABNVX',\n",
       " 'Year_of_Birth': 1954,\n",
       " 'Education_Level': 'Graduation',\n",
       " 'Marital_Status': 'Single',\n",
       " 'Disposable_Income': 48556.8,\n",
       " 'No_of_Kids_in_home': 0,\n",
       " 'No_of_Teen_in_home': 1,\n",
       " 'Date_Customer': '11-01-2013',\n",
       " 'Recency': 85,\n",
       " 'Discounted_Purchases': 6,\n",
       " 'WebPurchases': 8,\n",
       " 'CatalogPurchases': 2,\n",
       " 'StorePurchases': 8,\n",
       " 'Amount_on_Wines': 429,\n",
       " 'Amount_on_Fruits': 20,\n",
       " 'Amount_on_MeatProducts': 118,\n",
       " 'Amount_on_FishProducts': 7,\n",
       " 'Amount_on_SweetProducts': 23,\n",
       " 'Amount_on_GoldProds': 41,\n",
       " 'WebVisitsMonth': 8,\n",
       " 'Cmp3Accepted': 0,\n",
       " 'Cmp4Accepted': 0,\n",
       " 'Cmp5Accepted': 0,\n",
       " 'Cmp1Accepted': 0,\n",
       " 'Cmp2Accepted': 0,\n",
       " 'Any_Complain': 0}"
      ]
     },
     "execution_count": 114,
     "metadata": {},
     "output_type": "execute_result"
    }
   ],
   "source": [
    "\n",
    "\n",
    "train1 = pd.read_csv('Train.csv')\n",
    "\n",
    "test1 = pd.read_csv('Test.csv')\n",
    "\n",
    "\n",
    "samplesubmission = pd.read_csv('SampleSubmission.csv')\n",
    "\n",
    "\n",
    "# Preview train dataset\n",
    "test1.iloc[0].to_dict()"
   ]
  },
  {
   "cell_type": "code",
   "execution_count": 115,
   "id": "09ae11d1-7ed7-4a7f-994f-0bbd1113fddf",
   "metadata": {
    "executionInfo": {
     "elapsed": 153,
     "status": "aborted",
     "timestamp": 1658945184556,
     "user": {
      "displayName": "Hope Success",
      "userId": "17571223600285474034"
     },
     "user_tz": -60
    },
    "id": "09ae11d1-7ed7-4a7f-994f-0bbd1113fddf"
   },
   "outputs": [
    {
     "data": {
      "image/png": "[encoded data removed]",
      "text/plain": [
       "<Figure size 648x360 with 1 Axes>"
      ]
     },
     "metadata": {
      "needs_background": "light"
     },
     "output_type": "display_data"
    }
   ],
   "source": [
    "sns.boxplot(train1['Disposable_Income'])\n",
    "\n",
    "\n",
    "train1.loc[train1['Disposable_Income'] > 200000]\n",
    "\n",
    "train1 = train1.drop(190)"
   ]
  },
  {
   "cell_type": "code",
   "execution_count": 116,
   "id": "b33512fd-a1b4-4122-a565-d3104b967c8a",
   "metadata": {
    "executionInfo": {
     "elapsed": 155,
     "status": "aborted",
     "timestamp": 1658945184559,
     "user": {
      "displayName": "Hope Success",
      "userId": "17571223600285474034"
     },
     "user_tz": -60
    },
    "id": "b33512fd-a1b4-4122-a565-d3104b967c8a"
   },
   "outputs": [],
   "source": [
    "train1.drop('ID',1,inplace = True)\n",
    "\n",
    "test1.drop('ID',1,inplace = True)\n",
    "\n",
    "\n",
    "\n"
   ]
  },
  {
   "cell_type": "code",
   "execution_count": 117,
   "id": "3f909da9-58ff-46aa-a374-b5c8f9526241",
   "metadata": {
    "executionInfo": {
     "elapsed": 154,
     "status": "aborted",
     "timestamp": 1658945184560,
     "user": {
      "displayName": "Hope Success",
      "userId": "17571223600285474034"
     },
     "user_tz": -60
    },
    "id": "3f909da9-58ff-46aa-a374-b5c8f9526241"
   },
   "outputs": [
    {
     "data": {
      "text/html": [
       "<div>\n",
       "<style scoped>\n",
       "    .dataframe tbody tr th:only-of-type {\n",
       "        vertical-align: middle;\n",
       "    }\n",
       "\n",
       "    .dataframe tbody tr th {\n",
       "        vertical-align: top;\n",
       "    }\n",
       "\n",
       "    .dataframe thead th {\n",
       "        text-align: right;\n",
       "    }\n",
       "</style>\n",
       "<table border=\"1\" class=\"dataframe\">\n",
       "  <thead>\n",
       "    <tr style=\"text-align: right;\">\n",
       "      <th></th>\n",
       "      <th>count</th>\n",
       "      <th>unique</th>\n",
       "      <th>top</th>\n",
       "      <th>freq</th>\n",
       "      <th>mean</th>\n",
       "      <th>std</th>\n",
       "      <th>min</th>\n",
       "      <th>25%</th>\n",
       "      <th>50%</th>\n",
       "      <th>75%</th>\n",
       "      <th>max</th>\n",
       "    </tr>\n",
       "  </thead>\n",
       "  <tbody>\n",
       "    <tr>\n",
       "      <th>Year_of_Birth</th>\n",
       "      <td>1567.0</td>\n",
       "      <td>NaN</td>\n",
       "      <td>NaN</td>\n",
       "      <td>NaN</td>\n",
       "      <td>1970.068283</td>\n",
       "      <td>11.922903</td>\n",
       "      <td>1900.0</td>\n",
       "      <td>1960.0</td>\n",
       "      <td>1971.0</td>\n",
       "      <td>1979.0</td>\n",
       "      <td>1997.0</td>\n",
       "    </tr>\n",
       "    <tr>\n",
       "      <th>Education_Level</th>\n",
       "      <td>1567</td>\n",
       "      <td>5</td>\n",
       "      <td>Graduation</td>\n",
       "      <td>801</td>\n",
       "      <td>NaN</td>\n",
       "      <td>NaN</td>\n",
       "      <td>NaN</td>\n",
       "      <td>NaN</td>\n",
       "      <td>NaN</td>\n",
       "      <td>NaN</td>\n",
       "      <td>NaN</td>\n",
       "    </tr>\n",
       "    <tr>\n",
       "      <th>Marital_Status</th>\n",
       "      <td>1567</td>\n",
       "      <td>8</td>\n",
       "      <td>Married</td>\n",
       "      <td>615</td>\n",
       "      <td>NaN</td>\n",
       "      <td>NaN</td>\n",
       "      <td>NaN</td>\n",
       "      <td>NaN</td>\n",
       "      <td>NaN</td>\n",
       "      <td>NaN</td>\n",
       "      <td>NaN</td>\n",
       "    </tr>\n",
       "    <tr>\n",
       "      <th>Disposable_Income</th>\n",
       "      <td>1551.0</td>\n",
       "      <td>NaN</td>\n",
       "      <td>NaN</td>\n",
       "      <td>NaN</td>\n",
       "      <td>61905.610832</td>\n",
       "      <td>26060.185092</td>\n",
       "      <td>2076.0</td>\n",
       "      <td>41580.0</td>\n",
       "      <td>60884.4</td>\n",
       "      <td>81418.2</td>\n",
       "      <td>192963.6</td>\n",
       "    </tr>\n",
       "    <tr>\n",
       "      <th>No_of_Kids_in_home</th>\n",
       "      <td>1567.0</td>\n",
       "      <td>NaN</td>\n",
       "      <td>NaN</td>\n",
       "      <td>NaN</td>\n",
       "      <td>0.460115</td>\n",
       "      <td>0.540361</td>\n",
       "      <td>0.0</td>\n",
       "      <td>0.0</td>\n",
       "      <td>0.0</td>\n",
       "      <td>1.0</td>\n",
       "      <td>2.0</td>\n",
       "    </tr>\n",
       "    <tr>\n",
       "      <th>No_of_Teen_in_home</th>\n",
       "      <td>1567.0</td>\n",
       "      <td>NaN</td>\n",
       "      <td>NaN</td>\n",
       "      <td>NaN</td>\n",
       "      <td>0.497766</td>\n",
       "      <td>0.54418</td>\n",
       "      <td>0.0</td>\n",
       "      <td>0.0</td>\n",
       "      <td>0.0</td>\n",
       "      <td>1.0</td>\n",
       "      <td>2.0</td>\n",
       "    </tr>\n",
       "    <tr>\n",
       "      <th>Date_Customer</th>\n",
       "      <td>1567</td>\n",
       "      <td>619</td>\n",
       "      <td>12-05-2014</td>\n",
       "      <td>10</td>\n",
       "      <td>NaN</td>\n",
       "      <td>NaN</td>\n",
       "      <td>NaN</td>\n",
       "      <td>NaN</td>\n",
       "      <td>NaN</td>\n",
       "      <td>NaN</td>\n",
       "      <td>NaN</td>\n",
       "    </tr>\n",
       "    <tr>\n",
       "      <th>Recency</th>\n",
       "      <td>1567.0</td>\n",
       "      <td>NaN</td>\n",
       "      <td>NaN</td>\n",
       "      <td>NaN</td>\n",
       "      <td>55.425016</td>\n",
       "      <td>28.790064</td>\n",
       "      <td>7.0</td>\n",
       "      <td>31.0</td>\n",
       "      <td>56.0</td>\n",
       "      <td>80.0</td>\n",
       "      <td>106.0</td>\n",
       "    </tr>\n",
       "    <tr>\n",
       "      <th>Discounted_Purchases</th>\n",
       "      <td>1567.0</td>\n",
       "      <td>NaN</td>\n",
       "      <td>NaN</td>\n",
       "      <td>NaN</td>\n",
       "      <td>2.29164</td>\n",
       "      <td>1.937682</td>\n",
       "      <td>0.0</td>\n",
       "      <td>1.0</td>\n",
       "      <td>2.0</td>\n",
       "      <td>3.0</td>\n",
       "      <td>15.0</td>\n",
       "    </tr>\n",
       "    <tr>\n",
       "      <th>WebPurchases</th>\n",
       "      <td>1567.0</td>\n",
       "      <td>NaN</td>\n",
       "      <td>NaN</td>\n",
       "      <td>NaN</td>\n",
       "      <td>4.001914</td>\n",
       "      <td>2.774519</td>\n",
       "      <td>0.0</td>\n",
       "      <td>2.0</td>\n",
       "      <td>3.0</td>\n",
       "      <td>6.0</td>\n",
       "      <td>27.0</td>\n",
       "    </tr>\n",
       "    <tr>\n",
       "      <th>CatalogPurchases</th>\n",
       "      <td>1567.0</td>\n",
       "      <td>NaN</td>\n",
       "      <td>NaN</td>\n",
       "      <td>NaN</td>\n",
       "      <td>2.666879</td>\n",
       "      <td>3.044174</td>\n",
       "      <td>0.0</td>\n",
       "      <td>0.0</td>\n",
       "      <td>2.0</td>\n",
       "      <td>4.0</td>\n",
       "      <td>28.0</td>\n",
       "    </tr>\n",
       "    <tr>\n",
       "      <th>StorePurchases</th>\n",
       "      <td>1567.0</td>\n",
       "      <td>NaN</td>\n",
       "      <td>NaN</td>\n",
       "      <td>NaN</td>\n",
       "      <td>5.705169</td>\n",
       "      <td>3.260878</td>\n",
       "      <td>0.0</td>\n",
       "      <td>3.0</td>\n",
       "      <td>5.0</td>\n",
       "      <td>8.0</td>\n",
       "      <td>13.0</td>\n",
       "    </tr>\n",
       "    <tr>\n",
       "      <th>Amount_on_Wines</th>\n",
       "      <td>1567.0</td>\n",
       "      <td>NaN</td>\n",
       "      <td>NaN</td>\n",
       "      <td>NaN</td>\n",
       "      <td>303.374601</td>\n",
       "      <td>340.171444</td>\n",
       "      <td>5.0</td>\n",
       "      <td>27.5</td>\n",
       "      <td>167.0</td>\n",
       "      <td>500.0</td>\n",
       "      <td>1498.0</td>\n",
       "    </tr>\n",
       "    <tr>\n",
       "      <th>Amount_on_Fruits</th>\n",
       "      <td>1567.0</td>\n",
       "      <td>NaN</td>\n",
       "      <td>NaN</td>\n",
       "      <td>NaN</td>\n",
       "      <td>29.098915</td>\n",
       "      <td>39.577088</td>\n",
       "      <td>3.0</td>\n",
       "      <td>4.0</td>\n",
       "      <td>11.0</td>\n",
       "      <td>36.0</td>\n",
       "      <td>202.0</td>\n",
       "    </tr>\n",
       "    <tr>\n",
       "      <th>Amount_on_MeatProducts</th>\n",
       "      <td>1567.0</td>\n",
       "      <td>NaN</td>\n",
       "      <td>NaN</td>\n",
       "      <td>NaN</td>\n",
       "      <td>168.47224</td>\n",
       "      <td>233.463552</td>\n",
       "      <td>0.0</td>\n",
       "      <td>15.0</td>\n",
       "      <td>64.0</td>\n",
       "      <td>232.0</td>\n",
       "      <td>1725.0</td>\n",
       "    </tr>\n",
       "    <tr>\n",
       "      <th>Amount_on_FishProducts</th>\n",
       "      <td>1567.0</td>\n",
       "      <td>NaN</td>\n",
       "      <td>NaN</td>\n",
       "      <td>NaN</td>\n",
       "      <td>37.185067</td>\n",
       "      <td>54.007156</td>\n",
       "      <td>0.0</td>\n",
       "      <td>3.0</td>\n",
       "      <td>12.0</td>\n",
       "      <td>49.5</td>\n",
       "      <td>259.0</td>\n",
       "    </tr>\n",
       "    <tr>\n",
       "      <th>Amount_on_SweetProducts</th>\n",
       "      <td>1567.0</td>\n",
       "      <td>NaN</td>\n",
       "      <td>NaN</td>\n",
       "      <td>NaN</td>\n",
       "      <td>26.816847</td>\n",
       "      <td>40.865496</td>\n",
       "      <td>0.0</td>\n",
       "      <td>1.0</td>\n",
       "      <td>8.0</td>\n",
       "      <td>33.0</td>\n",
       "      <td>263.0</td>\n",
       "    </tr>\n",
       "    <tr>\n",
       "      <th>Amount_on_GoldProds</th>\n",
       "      <td>1567.0</td>\n",
       "      <td>NaN</td>\n",
       "      <td>NaN</td>\n",
       "      <td>NaN</td>\n",
       "      <td>43.759413</td>\n",
       "      <td>51.60179</td>\n",
       "      <td>0.0</td>\n",
       "      <td>8.0</td>\n",
       "      <td>25.0</td>\n",
       "      <td>56.0</td>\n",
       "      <td>362.0</td>\n",
       "    </tr>\n",
       "    <tr>\n",
       "      <th>WebVisitsMonth</th>\n",
       "      <td>1567.0</td>\n",
       "      <td>NaN</td>\n",
       "      <td>NaN</td>\n",
       "      <td>NaN</td>\n",
       "      <td>5.326101</td>\n",
       "      <td>2.468753</td>\n",
       "      <td>0.0</td>\n",
       "      <td>3.0</td>\n",
       "      <td>6.0</td>\n",
       "      <td>7.0</td>\n",
       "      <td>20.0</td>\n",
       "    </tr>\n",
       "    <tr>\n",
       "      <th>Cmp3Accepted</th>\n",
       "      <td>1567.0</td>\n",
       "      <td>NaN</td>\n",
       "      <td>NaN</td>\n",
       "      <td>NaN</td>\n",
       "      <td>0.07275</td>\n",
       "      <td>0.259809</td>\n",
       "      <td>0.0</td>\n",
       "      <td>0.0</td>\n",
       "      <td>0.0</td>\n",
       "      <td>0.0</td>\n",
       "      <td>1.0</td>\n",
       "    </tr>\n",
       "    <tr>\n",
       "      <th>Cmp4Accepted</th>\n",
       "      <td>1567.0</td>\n",
       "      <td>NaN</td>\n",
       "      <td>NaN</td>\n",
       "      <td>NaN</td>\n",
       "      <td>0.07275</td>\n",
       "      <td>0.259809</td>\n",
       "      <td>0.0</td>\n",
       "      <td>0.0</td>\n",
       "      <td>0.0</td>\n",
       "      <td>0.0</td>\n",
       "      <td>1.0</td>\n",
       "    </tr>\n",
       "    <tr>\n",
       "      <th>Cmp5Accepted</th>\n",
       "      <td>1567.0</td>\n",
       "      <td>NaN</td>\n",
       "      <td>NaN</td>\n",
       "      <td>NaN</td>\n",
       "      <td>0.080408</td>\n",
       "      <td>0.272011</td>\n",
       "      <td>0.0</td>\n",
       "      <td>0.0</td>\n",
       "      <td>0.0</td>\n",
       "      <td>0.0</td>\n",
       "      <td>1.0</td>\n",
       "    </tr>\n",
       "    <tr>\n",
       "      <th>Cmp1Accepted</th>\n",
       "      <td>1567.0</td>\n",
       "      <td>NaN</td>\n",
       "      <td>NaN</td>\n",
       "      <td>NaN</td>\n",
       "      <td>0.064454</td>\n",
       "      <td>0.245639</td>\n",
       "      <td>0.0</td>\n",
       "      <td>0.0</td>\n",
       "      <td>0.0</td>\n",
       "      <td>0.0</td>\n",
       "      <td>1.0</td>\n",
       "    </tr>\n",
       "    <tr>\n",
       "      <th>Cmp2Accepted</th>\n",
       "      <td>1567.0</td>\n",
       "      <td>NaN</td>\n",
       "      <td>NaN</td>\n",
       "      <td>NaN</td>\n",
       "      <td>0.012763</td>\n",
       "      <td>0.112287</td>\n",
       "      <td>0.0</td>\n",
       "      <td>0.0</td>\n",
       "      <td>0.0</td>\n",
       "      <td>0.0</td>\n",
       "      <td>1.0</td>\n",
       "    </tr>\n",
       "    <tr>\n",
       "      <th>Any_Complain</th>\n",
       "      <td>1567.0</td>\n",
       "      <td>NaN</td>\n",
       "      <td>NaN</td>\n",
       "      <td>NaN</td>\n",
       "      <td>0.008296</td>\n",
       "      <td>0.090733</td>\n",
       "      <td>0.0</td>\n",
       "      <td>0.0</td>\n",
       "      <td>0.0</td>\n",
       "      <td>0.0</td>\n",
       "      <td>1.0</td>\n",
       "    </tr>\n",
       "    <tr>\n",
       "      <th>Response</th>\n",
       "      <td>1567.0</td>\n",
       "      <td>NaN</td>\n",
       "      <td>NaN</td>\n",
       "      <td>NaN</td>\n",
       "      <td>0.152521</td>\n",
       "      <td>0.35964</td>\n",
       "      <td>0.0</td>\n",
       "      <td>0.0</td>\n",
       "      <td>0.0</td>\n",
       "      <td>0.0</td>\n",
       "      <td>1.0</td>\n",
       "    </tr>\n",
       "  </tbody>\n",
       "</table>\n",
       "</div>"
      ],
      "text/plain": [
       "                          count unique         top freq          mean  \\\n",
       "Year_of_Birth            1567.0    NaN         NaN  NaN   1970.068283   \n",
       "Education_Level            1567      5  Graduation  801           NaN   \n",
       "Marital_Status             1567      8     Married  615           NaN   \n",
       "Disposable_Income        1551.0    NaN         NaN  NaN  61905.610832   \n",
       "No_of_Kids_in_home       1567.0    NaN         NaN  NaN      0.460115   \n",
       "No_of_Teen_in_home       1567.0    NaN         NaN  NaN      0.497766   \n",
       "Date_Customer              1567    619  12-05-2014   10           NaN   \n",
       "Recency                  1567.0    NaN         NaN  NaN     55.425016   \n",
       "Discounted_Purchases     1567.0    NaN         NaN  NaN       2.29164   \n",
       "WebPurchases             1567.0    NaN         NaN  NaN      4.001914   \n",
       "CatalogPurchases         1567.0    NaN         NaN  NaN      2.666879   \n",
       "StorePurchases           1567.0    NaN         NaN  NaN      5.705169   \n",
       "Amount_on_Wines          1567.0    NaN         NaN  NaN    303.374601   \n",
       "Amount_on_Fruits         1567.0    NaN         NaN  NaN     29.098915   \n",
       "Amount_on_MeatProducts   1567.0    NaN         NaN  NaN     168.47224   \n",
       "Amount_on_FishProducts   1567.0    NaN         NaN  NaN     37.185067   \n",
       "Amount_on_SweetProducts  1567.0    NaN         NaN  NaN     26.816847   \n",
       "Amount_on_GoldProds      1567.0    NaN         NaN  NaN     43.759413   \n",
       "WebVisitsMonth           1567.0    NaN         NaN  NaN      5.326101   \n",
       "Cmp3Accepted             1567.0    NaN         NaN  NaN       0.07275   \n",
       "Cmp4Accepted             1567.0    NaN         NaN  NaN       0.07275   \n",
       "Cmp5Accepted             1567.0    NaN         NaN  NaN      0.080408   \n",
       "Cmp1Accepted             1567.0    NaN         NaN  NaN      0.064454   \n",
       "Cmp2Accepted             1567.0    NaN         NaN  NaN      0.012763   \n",
       "Any_Complain             1567.0    NaN         NaN  NaN      0.008296   \n",
       "Response                 1567.0    NaN         NaN  NaN      0.152521   \n",
       "\n",
       "                                  std     min      25%      50%      75%  \\\n",
       "Year_of_Birth               11.922903  1900.0   1960.0   1971.0   1979.0   \n",
       "Education_Level                   NaN     NaN      NaN      NaN      NaN   \n",
       "Marital_Status                    NaN     NaN      NaN      NaN      NaN   \n",
       "Disposable_Income        26060.185092  2076.0  41580.0  60884.4  81418.2   \n",
       "No_of_Kids_in_home           0.540361     0.0      0.0      0.0      1.0   \n",
       "No_of_Teen_in_home            0.54418     0.0      0.0      0.0      1.0   \n",
       "Date_Customer                     NaN     NaN      NaN      NaN      NaN   \n",
       "Recency                     28.790064     7.0     31.0     56.0     80.0   \n",
       "Discounted_Purchases         1.937682     0.0      1.0      2.0      3.0   \n",
       "WebPurchases                 2.774519     0.0      2.0      3.0      6.0   \n",
       "CatalogPurchases             3.044174     0.0      0.0      2.0      4.0   \n",
       "StorePurchases               3.260878     0.0      3.0      5.0      8.0   \n",
       "Amount_on_Wines            340.171444     5.0     27.5    167.0    500.0   \n",
       "Amount_on_Fruits            39.577088     3.0      4.0     11.0     36.0   \n",
       "Amount_on_MeatProducts     233.463552     0.0     15.0     64.0    232.0   \n",
       "Amount_on_FishProducts      54.007156     0.0      3.0     12.0     49.5   \n",
       "Amount_on_SweetProducts     40.865496     0.0      1.0      8.0     33.0   \n",
       "Amount_on_GoldProds          51.60179     0.0      8.0     25.0     56.0   \n",
       "WebVisitsMonth               2.468753     0.0      3.0      6.0      7.0   \n",
       "Cmp3Accepted                 0.259809     0.0      0.0      0.0      0.0   \n",
       "Cmp4Accepted                 0.259809     0.0      0.0      0.0      0.0   \n",
       "Cmp5Accepted                 0.272011     0.0      0.0      0.0      0.0   \n",
       "Cmp1Accepted                 0.245639     0.0      0.0      0.0      0.0   \n",
       "Cmp2Accepted                 0.112287     0.0      0.0      0.0      0.0   \n",
       "Any_Complain                 0.090733     0.0      0.0      0.0      0.0   \n",
       "Response                      0.35964     0.0      0.0      0.0      0.0   \n",
       "\n",
       "                              max  \n",
       "Year_of_Birth              1997.0  \n",
       "Education_Level               NaN  \n",
       "Marital_Status                NaN  \n",
       "Disposable_Income        192963.6  \n",
       "No_of_Kids_in_home            2.0  \n",
       "No_of_Teen_in_home            2.0  \n",
       "Date_Customer                 NaN  \n",
       "Recency                     106.0  \n",
       "Discounted_Purchases         15.0  \n",
       "WebPurchases                 27.0  \n",
       "CatalogPurchases             28.0  \n",
       "StorePurchases               13.0  \n",
       "Amount_on_Wines            1498.0  \n",
       "Amount_on_Fruits            202.0  \n",
       "Amount_on_MeatProducts     1725.0  \n",
       "Amount_on_FishProducts      259.0  \n",
       "Amount_on_SweetProducts     263.0  \n",
       "Amount_on_GoldProds         362.0  \n",
       "WebVisitsMonth               20.0  \n",
       "Cmp3Accepted                  1.0  \n",
       "Cmp4Accepted                  1.0  \n",
       "Cmp5Accepted                  1.0  \n",
       "Cmp1Accepted                  1.0  \n",
       "Cmp2Accepted                  1.0  \n",
       "Any_Complain                  1.0  \n",
       "Response                      1.0  "
      ]
     },
     "execution_count": 117,
     "metadata": {},
     "output_type": "execute_result"
    }
   ],
   "source": [
    "train1.describe(include='all').T"
   ]
  },
  {
   "cell_type": "markdown",
   "id": "7e6cf359",
   "metadata": {},
   "source": [
    "## Exploratory Data Analysis"
   ]
  },
  {
   "cell_type": "code",
   "execution_count": 118,
   "id": "bebdb98f",
   "metadata": {},
   "outputs": [
    {
     "name": "stdout",
     "output_type": "stream",
     "text": [
      "0    84.747926\n",
      "1    15.252074\n",
      "Name: Response, dtype: float64\n"
     ]
    },
    {
     "data": {
      "text/plain": [
       "<AxesSubplot:xlabel='Response', ylabel='count'>"
      ]
     },
     "execution_count": 118,
     "metadata": {},
     "output_type": "execute_result"
    },
    {
     "data": {
      "image/png": "[encoded data removed]",
      "text/plain": [
       "<Figure size 648x360 with 1 Axes>"
      ]
     },
     "metadata": {
      "needs_background": "light"
     },
     "output_type": "display_data"
    }
   ],
   "source": [
    "#percentage of different responses of customers\n",
    "print(train1['Response'].value_counts(normalize=True)*100) \n",
    "sns.countplot(x='Response', data = train1)\n"
   ]
  },
  {
   "cell_type": "markdown",
   "id": "ed07cc69",
   "metadata": {},
   "source": [
    "Only 15 percent of their customers actually accepted the marketing campaign while the remaining 85 percent didnt"
   ]
  },
  {
   "cell_type": "code",
   "execution_count": 119,
   "id": "1568a24a",
   "metadata": {},
   "outputs": [
    {
     "data": {
      "text/plain": [
       "<seaborn.axisgrid.FacetGrid at 0x1a17595dc30>"
      ]
     },
     "execution_count": 119,
     "metadata": {},
     "output_type": "execute_result"
    },
    {
     "data": {
      "image/png": "[encoded data removed]",
      "text/plain": [
       "<Figure size 794.075x360 with 1 Axes>"
      ]
     },
     "metadata": {
      "needs_background": "light"
     },
     "output_type": "display_data"
    }
   ],
   "source": [
    "#Customers response based on education\n",
    "\n",
    "sns.catplot(x='Education_Level',data=train1,hue='Response',kind='count',aspect=2)\n"
   ]
  },
  {
   "cell_type": "markdown",
   "id": "8ac8141c",
   "metadata": {},
   "source": [
    "Most customers who responded to the campaign have their hieghest education level as graduates"
   ]
  },
  {
   "cell_type": "code",
   "execution_count": 120,
   "id": "5cd3ccee",
   "metadata": {},
   "outputs": [
    {
     "data": {
      "text/plain": [
       "<seaborn.axisgrid.FacetGrid at 0x1a175c957b0>"
      ]
     },
     "execution_count": 120,
     "metadata": {},
     "output_type": "execute_result"
    },
    {
     "data": {
      "image/png": "[encoded data removed]",
      "text/plain": [
       "<Figure size 794.075x360 with 1 Axes>"
      ]
     },
     "metadata": {
      "needs_background": "light"
     },
     "output_type": "display_data"
    }
   ],
   "source": [
    "#Customers response based on marital status\n",
    "sns.catplot(x='Marital_Status',data=train1,hue='Response',kind='count',aspect=2)\n",
    "\n"
   ]
  },
  {
   "cell_type": "markdown",
   "id": "901a0cf8",
   "metadata": {},
   "source": [
    "More customers who were married responded better to their marketing campaign"
   ]
  },
  {
   "cell_type": "code",
   "execution_count": 121,
   "id": "2a5960a0",
   "metadata": {},
   "outputs": [
    {
     "data": {
      "text/plain": [
       "<seaborn.axisgrid.FacetGrid at 0x1a16a375600>"
      ]
     },
     "execution_count": 121,
     "metadata": {},
     "output_type": "execute_result"
    },
    {
     "data": {
      "image/png": "[encoded data removed]",
      "text/plain": [
       "<Figure size 720x360 with 1 Axes>"
      ]
     },
     "metadata": {
      "needs_background": "light"
     },
     "output_type": "display_data"
    }
   ],
   "source": [
    "#Customers response based on web visit  \n",
    "\n",
    "sns.catplot(y='WebVisitsMonth',x ='Response',data=train1,kind='box',aspect=2)"
   ]
  },
  {
   "cell_type": "markdown",
   "id": "e0eb8337",
   "metadata": {},
   "source": [
    "The customers who responded to the campaign and those who didnt respond visit the e-commerce website fairly at the same rate"
   ]
  },
  {
   "cell_type": "code",
   "execution_count": 122,
   "id": "82ba87e3",
   "metadata": {},
   "outputs": [
    {
     "data": {
      "text/plain": [
       "<seaborn.axisgrid.FacetGrid at 0x1a177529870>"
      ]
     },
     "execution_count": 122,
     "metadata": {},
     "output_type": "execute_result"
    },
    {
     "data": {
      "image/png": "[encoded data removed]",
      "text/plain": [
       "<Figure size 720x360 with 1 Axes>"
      ]
     },
     "metadata": {
      "needs_background": "light"
     },
     "output_type": "display_data"
    }
   ],
   "source": [
    "#Customers response based on Disposable_Income  \n",
    "\n",
    "sns.catplot(y='Disposable_Income',x ='Response',data=train1,kind='box',aspect=2)"
   ]
  },
  {
   "cell_type": "markdown",
   "id": "74e0f47b",
   "metadata": {},
   "source": [
    "The customers who responded to the campaign had an higher disposable income on average than those who didnt respond\n"
   ]
  },
  {
   "cell_type": "code",
   "execution_count": 123,
   "id": "e4f19a8e",
   "metadata": {},
   "outputs": [
    {
     "name": "stdout",
     "output_type": "stream",
     "text": [
      "0    87.317073\n",
      "1    12.682927\n",
      "Name: Response, dtype: float64\n"
     ]
    },
    {
     "data": {
      "image/png": "[encoded data removed]",
      "text/plain": [
       "<Figure size 648x360 with 1 Axes>"
      ]
     },
     "metadata": {
      "needs_background": "light"
     },
     "output_type": "display_data"
    }
   ],
   "source": [
    "#proportion of married people that responded to the campaign\n",
    "mar_res= train1[train1[\"Marital_Status\"]== \"Married\"][\"Response\"]\n",
    "print(mar_res.value_counts(normalize= True)* 100)\n",
    "sns.countplot(mar_res)\n",
    "plt.title(\"Married people that responsded\")\n",
    "plt.show()\n",
    "\n"
   ]
  },
  {
   "cell_type": "code",
   "execution_count": 124,
   "id": "d5790313",
   "metadata": {},
   "outputs": [
    {
     "name": "stdout",
     "output_type": "stream",
     "text": [
      "0    78.419453\n",
      "1    21.580547\n",
      "Name: Response, dtype: float64\n"
     ]
    },
    {
     "data": {
      "image/png": "[encoded data removed]",
      "text/plain": [
       "<Figure size 648x360 with 1 Axes>"
      ]
     },
     "metadata": {
      "needs_background": "light"
     },
     "output_type": "display_data"
    }
   ],
   "source": [
    "\n",
    "#proportion of Single people that responded to the campaign\n",
    "mar_res= train1[train1[\"Marital_Status\"]== \"Single\"][\"Response\"]\n",
    "print(mar_res.value_counts(normalize= True)* 100)\n",
    "sns.countplot(mar_res)\n",
    "plt.title(\"Single people that responded\")\n",
    "plt.show()"
   ]
  },
  {
   "cell_type": "code",
   "execution_count": 125,
   "id": "c3d9cf4f",
   "metadata": {},
   "outputs": [
    {
     "name": "stdout",
     "output_type": "stream",
     "text": [
      "0    79.874214\n",
      "1    20.125786\n",
      "Name: Response, dtype: float64\n"
     ]
    },
    {
     "data": {
      "image/png": "[encoded data removed]",
      "text/plain": [
       "<Figure size 648x360 with 1 Axes>"
      ]
     },
     "metadata": {
      "needs_background": "light"
     },
     "output_type": "display_data"
    }
   ],
   "source": [
    "#proportion of Single people that responded to the campaign\n",
    "\n",
    "mar_res= train1[train1[\"Marital_Status\"]== \"Divorced\"][\"Response\"]\n",
    "print(mar_res.value_counts(normalize= True)* 100)\n",
    "sns.countplot(mar_res)\n",
    "plt.title(\"Divorced people that responded\")\n",
    "plt.show()"
   ]
  },
  {
   "cell_type": "code",
   "execution_count": 126,
   "id": "df74b812",
   "metadata": {},
   "outputs": [
    {
     "name": "stdout",
     "output_type": "stream",
     "text": [
      "0    72.0\n",
      "1    28.0\n",
      "Name: Response, dtype: float64\n"
     ]
    },
    {
     "data": {
      "image/png": "[encoded data removed]",
      "text/plain": [
       "<Figure size 648x360 with 1 Axes>"
      ]
     },
     "metadata": {
      "needs_background": "light"
     },
     "output_type": "display_data"
    }
   ],
   "source": [
    "#proportion of Widows that responded to the campaign\n",
    "\n",
    "mar_res= train1[train1[\"Marital_Status\"]== \"Widow\"][\"Response\"]\n",
    "print(mar_res.value_counts(normalize= True)* 100)\n",
    "sns.countplot(mar_res)\n",
    "plt.title(\"Widow's  that responded\")\n",
    "plt.show()"
   ]
  },
  {
   "cell_type": "code",
   "execution_count": 127,
   "id": "6b5d3d0e",
   "metadata": {},
   "outputs": [
    {
     "name": "stdout",
     "output_type": "stream",
     "text": [
      "0    89.95098\n",
      "1    10.04902\n",
      "Name: Response, dtype: float64\n"
     ]
    },
    {
     "data": {
      "image/png": "[encoded data removed]",
      "text/plain": [
       "<Figure size 648x360 with 1 Axes>"
      ]
     },
     "metadata": {
      "needs_background": "light"
     },
     "output_type": "display_data"
    }
   ],
   "source": [
    "#proportion of Together that responded to the campaign\n",
    "\n",
    "mar_res= train1[train1[\"Marital_Status\"]== \"Together\"][\"Response\"]\n",
    "print(mar_res.value_counts(normalize= True)* 100)\n",
    "sns.countplot(mar_res)\n",
    "plt.title(\"Togethers's  that responded\")\n",
    "plt.show()"
   ]
  },
  {
   "cell_type": "code",
   "execution_count": 128,
   "id": "e40462da",
   "metadata": {},
   "outputs": [
    {
     "name": "stdout",
     "output_type": "stream",
     "text": [
      "0    85.642946\n",
      "1    14.357054\n",
      "Name: Response, dtype: float64\n"
     ]
    },
    {
     "data": {
      "image/png": "[encoded data removed]",
      "text/plain": [
       "<Figure size 648x360 with 1 Axes>"
      ]
     },
     "metadata": {
      "needs_background": "light"
     },
     "output_type": "display_data"
    }
   ],
   "source": [
    "#proportion of graduates that responded to the campaign\n",
    "edu_res= train1[train1[\"Education_Level\"]== \"Graduation\"][\"Response\"]\n",
    "print(edu_res.value_counts(normalize= True)* 100)\n",
    "sns.countplot(edu_res)\n",
    "plt.title(\"Graduates that responsded\")\n",
    "plt.show()"
   ]
  },
  {
   "cell_type": "code",
   "execution_count": 129,
   "id": "9dfe510f",
   "metadata": {},
   "outputs": [
    {
     "name": "stdout",
     "output_type": "stream",
     "text": [
      "0    84.552846\n",
      "1    15.447154\n",
      "Name: Response, dtype: float64\n"
     ]
    },
    {
     "data": {
      "image/png": "[encoded data removed]",
      "text/plain": [
       "<Figure size 648x360 with 1 Axes>"
      ]
     },
     "metadata": {
      "needs_background": "light"
     },
     "output_type": "display_data"
    }
   ],
   "source": [
    "#proportion of masters holders that responded to the campaign\n",
    "edu_res= train1[train1[\"Education_Level\"]== \"Master\"][\"Response\"]\n",
    "print(edu_res.value_counts(normalize= True)* 100)\n",
    "sns.countplot(edu_res)\n",
    "plt.title(\"Masters holders that responsded\")\n",
    "plt.show()"
   ]
  },
  {
   "cell_type": "code",
   "execution_count": 130,
   "id": "3ee0fdd8",
   "metadata": {},
   "outputs": [
    {
     "name": "stdout",
     "output_type": "stream",
     "text": [
      "0    79.117647\n",
      "1    20.882353\n",
      "Name: Response, dtype: float64\n"
     ]
    },
    {
     "data": {
      "image/png": "[encoded data removed]",
      "text/plain": [
       "<Figure size 648x360 with 1 Axes>"
      ]
     },
     "metadata": {
      "needs_background": "light"
     },
     "output_type": "display_data"
    }
   ],
   "source": [
    "#proportion of phD holders that responded to the campaign\n",
    "edu_res= train1[train1[\"Education_Level\"]== \"PhD\"][\"Response\"]\n",
    "print(edu_res.value_counts(normalize= True)* 100)\n",
    "sns.countplot(edu_res)\n",
    "plt.title(\"PhD holders that responsded\")\n",
    "plt.show()"
   ]
  },
  {
   "cell_type": "code",
   "execution_count": 131,
   "id": "dc186806",
   "metadata": {},
   "outputs": [
    {
     "name": "stdout",
     "output_type": "stream",
     "text": [
      "0    90.140845\n",
      "1     9.859155\n",
      "Name: Response, dtype: float64\n"
     ]
    },
    {
     "data": {
      "image/png": "[encoded data removed]",
      "text/plain": [
       "<Figure size 648x360 with 1 Axes>"
      ]
     },
     "metadata": {
      "needs_background": "light"
     },
     "output_type": "display_data"
    }
   ],
   "source": [
    "#proportion of 2n Cycles that responded to the campaign\n",
    "edu_res= train1[train1[\"Education_Level\"]== \"2n Cycle\"][\"Response\"]\n",
    "print(edu_res.value_counts(normalize= True)* 100)\n",
    "sns.countplot(edu_res)\n",
    "plt.title(\"2n Cycles that responsded\")\n",
    "plt.show()"
   ]
  },
  {
   "cell_type": "markdown",
   "id": "719eaa43-2e10-4633-a1d6-78f33530a7a2",
   "metadata": {
    "id": "719eaa43-2e10-4633-a1d6-78f33530a7a2"
   },
   "source": [
    "#  Data Prepocessing and Feature Engineering"
   ]
  },
  {
   "cell_type": "code",
   "execution_count": 132,
   "id": "4d4733e3",
   "metadata": {},
   "outputs": [],
   "source": [
    "test1['Response'] = 2\n",
    "\n",
    "data = pd.concat([train1,test1]).reset_index(drop=True)"
   ]
  },
  {
   "cell_type": "code",
   "execution_count": 133,
   "id": "6cca71f6-1024-4c8f-8b78-518ff9e7acbc",
   "metadata": {
    "executionInfo": {
     "elapsed": 155,
     "status": "aborted",
     "timestamp": 1658945184565,
     "user": {
      "displayName": "Hope Success",
      "userId": "17571223600285474034"
     },
     "user_tz": -60
    },
    "id": "6cca71f6-1024-4c8f-8b78-518ff9e7acbc"
   },
   "outputs": [
    {
     "data": {
      "text/plain": [
       "'01-01-2013'"
      ]
     },
     "execution_count": 133,
     "metadata": {},
     "output_type": "execute_result"
    }
   ],
   "source": [
    "\n",
    "\n",
    "\n",
    "data['Disposable_Income'].fillna(-9999, inplace=True)\n",
    "\n",
    "\n",
    "min(data['Date_Customer'])"
   ]
  },
  {
   "cell_type": "code",
   "execution_count": 134,
   "id": "aaaf220c-7e0d-4bb6-bf03-4258cdd79381",
   "metadata": {
    "executionInfo": {
     "elapsed": 154,
     "status": "aborted",
     "timestamp": 1658945184567,
     "user": {
      "displayName": "Hope Success",
      "userId": "17571223600285474034"
     },
     "user_tz": -60
    },
    "id": "aaaf220c-7e0d-4bb6-bf03-4258cdd79381"
   },
   "outputs": [],
   "source": [
    "data['Date_Customer'] = pd.to_datetime(data['Date_Customer'])\n",
    "# test['Date_Customer'] = pd.to_datetime(test['Date_Customer'])\n",
    "\n",
    "\n",
    "Today =  pd.to_datetime('2015-1-1')\n",
    "\n",
    "\n",
    "\n",
    "# Extract date features\n",
    "def extract_date_info(df,cols):\n",
    "    for feat in cols:\n",
    "        df[feat +'_year'] = df[feat].dt.year        \n",
    "        df[feat +'_day'] = df[feat].dt.day\n",
    "        df[feat +'_month'] = df[feat].dt.month\n",
    "        df[feat +'_quarter'] = df[feat].dt.quarter  \n",
    "        df[feat +'_weekday'] = df[feat].dt.weekday\n",
    "        \n",
    "        \n",
    "        \n",
    "        \n",
    "    # df.drop(columns=['Date_Customer'],axis=1,inplace=True)\n",
    "\n",
    "\n",
    "extract_date_info(data,['Date_Customer'])\n",
    "\n",
    "data['Duration_Customer']  = (Today - data['Date_Customer']).dt.days\n",
    "\n",
    "data['months_Dur_Customer'] = (Today- data['Date_Customer']) / pd.Timedelta(days=31)\n",
    "data['months_Dur_Customer'] = data['months_Dur_Customer'].astype(int)\n",
    "\n",
    "dw_mapping={\n",
    "    0: 'Monday', \n",
    "    1: 'Tuesday', \n",
    "    2: 'Wednesday', \n",
    "    3: 'Thursday', \n",
    "    4: 'Friday',\n",
    "    5: 'Saturday', \n",
    "    6: 'Sunday'\n",
    "} \n",
    "data['day_of_week_name']=data['Date_Customer'].dt.weekday.map(dw_mapping)\n",
    "\n",
    "\n",
    "data['is_month_end'] = data.Date_Customer.dt.is_month_end.astype(int)\n",
    "data['is_month_start'] = data.Date_Customer.dt.is_month_start.astype(int)\n",
    "\n",
    "data.head()\n",
    "\n",
    "data.drop(columns=['Date_Customer'],axis=1,inplace=True)"
   ]
  },
  {
   "cell_type": "code",
   "execution_count": 135,
   "id": "b23d2a62-c415-4cc9-8b3e-95be65c0aa77",
   "metadata": {
    "executionInfo": {
     "elapsed": 157,
     "status": "aborted",
     "timestamp": 1658945184572,
     "user": {
      "displayName": "Hope Success",
      "userId": "17571223600285474034"
     },
     "user_tz": -60
    },
    "id": "b23d2a62-c415-4cc9-8b3e-95be65c0aa77"
   },
   "outputs": [
    {
     "data": {
      "text/html": [
       "<div>\n",
       "<style scoped>\n",
       "    .dataframe tbody tr th:only-of-type {\n",
       "        vertical-align: middle;\n",
       "    }\n",
       "\n",
       "    .dataframe tbody tr th {\n",
       "        vertical-align: top;\n",
       "    }\n",
       "\n",
       "    .dataframe thead th {\n",
       "        text-align: right;\n",
       "    }\n",
       "</style>\n",
       "<table border=\"1\" class=\"dataframe\">\n",
       "  <thead>\n",
       "    <tr style=\"text-align: right;\">\n",
       "      <th></th>\n",
       "      <th>Year_of_Birth</th>\n",
       "      <th>Education_Level</th>\n",
       "      <th>Marital_Status</th>\n",
       "      <th>Disposable_Income</th>\n",
       "      <th>No_of_Kids_in_home</th>\n",
       "      <th>No_of_Teen_in_home</th>\n",
       "      <th>Recency</th>\n",
       "      <th>Discounted_Purchases</th>\n",
       "      <th>WebPurchases</th>\n",
       "      <th>CatalogPurchases</th>\n",
       "      <th>...</th>\n",
       "      <th>Duration_Customer</th>\n",
       "      <th>months_Dur_Customer</th>\n",
       "      <th>day_of_week_name</th>\n",
       "      <th>is_month_end</th>\n",
       "      <th>is_month_start</th>\n",
       "      <th>year_month</th>\n",
       "      <th>Recencyyear_month_mean</th>\n",
       "      <th>Recencyyear_month_std</th>\n",
       "      <th>Recencyyear_month_min</th>\n",
       "      <th>Recencyyear_month_max</th>\n",
       "    </tr>\n",
       "  </thead>\n",
       "  <tbody>\n",
       "    <tr>\n",
       "      <th>0</th>\n",
       "      <td>1955</td>\n",
       "      <td>Graduation</td>\n",
       "      <td>Divorced</td>\n",
       "      <td>77504.4</td>\n",
       "      <td>1</td>\n",
       "      <td>1</td>\n",
       "      <td>56</td>\n",
       "      <td>2</td>\n",
       "      <td>1</td>\n",
       "      <td>1</td>\n",
       "      <td>...</td>\n",
       "      <td>193</td>\n",
       "      <td>6</td>\n",
       "      <td>Sunday</td>\n",
       "      <td>0</td>\n",
       "      <td>0</td>\n",
       "      <td>2014_6</td>\n",
       "      <td>53.590164</td>\n",
       "      <td>30.163652</td>\n",
       "      <td>7</td>\n",
       "      <td>106</td>\n",
       "    </tr>\n",
       "    <tr>\n",
       "      <th>1</th>\n",
       "      <td>1958</td>\n",
       "      <td>Graduation</td>\n",
       "      <td>Together</td>\n",
       "      <td>56784.0</td>\n",
       "      <td>0</td>\n",
       "      <td>1</td>\n",
       "      <td>17</td>\n",
       "      <td>6</td>\n",
       "      <td>5</td>\n",
       "      <td>1</td>\n",
       "      <td>...</td>\n",
       "      <td>723</td>\n",
       "      <td>23</td>\n",
       "      <td>Tuesday</td>\n",
       "      <td>0</td>\n",
       "      <td>0</td>\n",
       "      <td>2013_1</td>\n",
       "      <td>56.645833</td>\n",
       "      <td>27.109128</td>\n",
       "      <td>7</td>\n",
       "      <td>106</td>\n",
       "    </tr>\n",
       "    <tr>\n",
       "      <th>2</th>\n",
       "      <td>1962</td>\n",
       "      <td>Graduation</td>\n",
       "      <td>Single</td>\n",
       "      <td>103714.8</td>\n",
       "      <td>0</td>\n",
       "      <td>0</td>\n",
       "      <td>17</td>\n",
       "      <td>0</td>\n",
       "      <td>7</td>\n",
       "      <td>4</td>\n",
       "      <td>...</td>\n",
       "      <td>406</td>\n",
       "      <td>13</td>\n",
       "      <td>Thursday</td>\n",
       "      <td>0</td>\n",
       "      <td>0</td>\n",
       "      <td>2013_11</td>\n",
       "      <td>55.160000</td>\n",
       "      <td>28.999728</td>\n",
       "      <td>7</td>\n",
       "      <td>104</td>\n",
       "    </tr>\n",
       "    <tr>\n",
       "      <th>3</th>\n",
       "      <td>1979</td>\n",
       "      <td>2n Cycle</td>\n",
       "      <td>Single</td>\n",
       "      <td>46311.6</td>\n",
       "      <td>1</td>\n",
       "      <td>0</td>\n",
       "      <td>49</td>\n",
       "      <td>3</td>\n",
       "      <td>4</td>\n",
       "      <td>1</td>\n",
       "      <td>...</td>\n",
       "      <td>475</td>\n",
       "      <td>15</td>\n",
       "      <td>Friday</td>\n",
       "      <td>0</td>\n",
       "      <td>0</td>\n",
       "      <td>2013_9</td>\n",
       "      <td>52.218391</td>\n",
       "      <td>31.242646</td>\n",
       "      <td>7</td>\n",
       "      <td>106</td>\n",
       "    </tr>\n",
       "    <tr>\n",
       "      <th>4</th>\n",
       "      <td>1959</td>\n",
       "      <td>Graduation</td>\n",
       "      <td>Married</td>\n",
       "      <td>87486.0</td>\n",
       "      <td>0</td>\n",
       "      <td>0</td>\n",
       "      <td>59</td>\n",
       "      <td>1</td>\n",
       "      <td>3</td>\n",
       "      <td>7</td>\n",
       "      <td>...</td>\n",
       "      <td>345</td>\n",
       "      <td>11</td>\n",
       "      <td>Tuesday</td>\n",
       "      <td>0</td>\n",
       "      <td>0</td>\n",
       "      <td>2014_1</td>\n",
       "      <td>53.822785</td>\n",
       "      <td>30.751177</td>\n",
       "      <td>7</td>\n",
       "      <td>105</td>\n",
       "    </tr>\n",
       "    <tr>\n",
       "      <th>...</th>\n",
       "      <td>...</td>\n",
       "      <td>...</td>\n",
       "      <td>...</td>\n",
       "      <td>...</td>\n",
       "      <td>...</td>\n",
       "      <td>...</td>\n",
       "      <td>...</td>\n",
       "      <td>...</td>\n",
       "      <td>...</td>\n",
       "      <td>...</td>\n",
       "      <td>...</td>\n",
       "      <td>...</td>\n",
       "      <td>...</td>\n",
       "      <td>...</td>\n",
       "      <td>...</td>\n",
       "      <td>...</td>\n",
       "      <td>...</td>\n",
       "      <td>...</td>\n",
       "      <td>...</td>\n",
       "      <td>...</td>\n",
       "      <td>...</td>\n",
       "    </tr>\n",
       "    <tr>\n",
       "      <th>2234</th>\n",
       "      <td>1975</td>\n",
       "      <td>Graduation</td>\n",
       "      <td>Married</td>\n",
       "      <td>80934.0</td>\n",
       "      <td>0</td>\n",
       "      <td>1</td>\n",
       "      <td>70</td>\n",
       "      <td>5</td>\n",
       "      <td>9</td>\n",
       "      <td>6</td>\n",
       "      <td>...</td>\n",
       "      <td>754</td>\n",
       "      <td>24</td>\n",
       "      <td>Saturday</td>\n",
       "      <td>0</td>\n",
       "      <td>0</td>\n",
       "      <td>2012_12</td>\n",
       "      <td>52.000000</td>\n",
       "      <td>27.772888</td>\n",
       "      <td>8</td>\n",
       "      <td>104</td>\n",
       "    </tr>\n",
       "    <tr>\n",
       "      <th>2235</th>\n",
       "      <td>1955</td>\n",
       "      <td>Graduation</td>\n",
       "      <td>Divorced</td>\n",
       "      <td>84052.8</td>\n",
       "      <td>0</td>\n",
       "      <td>1</td>\n",
       "      <td>53</td>\n",
       "      <td>4</td>\n",
       "      <td>7</td>\n",
       "      <td>10</td>\n",
       "      <td>...</td>\n",
       "      <td>682</td>\n",
       "      <td>22</td>\n",
       "      <td>Monday</td>\n",
       "      <td>0</td>\n",
       "      <td>0</td>\n",
       "      <td>2013_2</td>\n",
       "      <td>53.035714</td>\n",
       "      <td>28.370753</td>\n",
       "      <td>8</td>\n",
       "      <td>104</td>\n",
       "    </tr>\n",
       "    <tr>\n",
       "      <th>2236</th>\n",
       "      <td>1952</td>\n",
       "      <td>PhD</td>\n",
       "      <td>Married</td>\n",
       "      <td>63974.4</td>\n",
       "      <td>0</td>\n",
       "      <td>0</td>\n",
       "      <td>39</td>\n",
       "      <td>1</td>\n",
       "      <td>5</td>\n",
       "      <td>1</td>\n",
       "      <td>...</td>\n",
       "      <td>480</td>\n",
       "      <td>15</td>\n",
       "      <td>Sunday</td>\n",
       "      <td>0</td>\n",
       "      <td>0</td>\n",
       "      <td>2013_9</td>\n",
       "      <td>52.218391</td>\n",
       "      <td>31.242646</td>\n",
       "      <td>7</td>\n",
       "      <td>106</td>\n",
       "    </tr>\n",
       "    <tr>\n",
       "      <th>2237</th>\n",
       "      <td>1960</td>\n",
       "      <td>Graduation</td>\n",
       "      <td>Together</td>\n",
       "      <td>69548.4</td>\n",
       "      <td>0</td>\n",
       "      <td>1</td>\n",
       "      <td>31</td>\n",
       "      <td>7</td>\n",
       "      <td>4</td>\n",
       "      <td>6</td>\n",
       "      <td>...</td>\n",
       "      <td>500</td>\n",
       "      <td>16</td>\n",
       "      <td>Monday</td>\n",
       "      <td>0</td>\n",
       "      <td>0</td>\n",
       "      <td>2013_8</td>\n",
       "      <td>57.153846</td>\n",
       "      <td>26.609645</td>\n",
       "      <td>9</td>\n",
       "      <td>104</td>\n",
       "    </tr>\n",
       "    <tr>\n",
       "      <th>2238</th>\n",
       "      <td>1961</td>\n",
       "      <td>Master</td>\n",
       "      <td>Married</td>\n",
       "      <td>56823.6</td>\n",
       "      <td>0</td>\n",
       "      <td>1</td>\n",
       "      <td>100</td>\n",
       "      <td>3</td>\n",
       "      <td>2</td>\n",
       "      <td>2</td>\n",
       "      <td>...</td>\n",
       "      <td>414</td>\n",
       "      <td>13</td>\n",
       "      <td>Wednesday</td>\n",
       "      <td>0</td>\n",
       "      <td>0</td>\n",
       "      <td>2013_11</td>\n",
       "      <td>55.160000</td>\n",
       "      <td>28.999728</td>\n",
       "      <td>7</td>\n",
       "      <td>104</td>\n",
       "    </tr>\n",
       "  </tbody>\n",
       "</table>\n",
       "<p>2239 rows × 40 columns</p>\n",
       "</div>"
      ],
      "text/plain": [
       "      Year_of_Birth Education_Level Marital_Status  Disposable_Income  \\\n",
       "0              1955      Graduation       Divorced            77504.4   \n",
       "1              1958      Graduation       Together            56784.0   \n",
       "2              1962      Graduation         Single           103714.8   \n",
       "3              1979        2n Cycle         Single            46311.6   \n",
       "4              1959      Graduation        Married            87486.0   \n",
       "...             ...             ...            ...                ...   \n",
       "2234           1975      Graduation        Married            80934.0   \n",
       "2235           1955      Graduation       Divorced            84052.8   \n",
       "2236           1952             PhD        Married            63974.4   \n",
       "2237           1960      Graduation       Together            69548.4   \n",
       "2238           1961          Master        Married            56823.6   \n",
       "\n",
       "      No_of_Kids_in_home  No_of_Teen_in_home  Recency  Discounted_Purchases  \\\n",
       "0                      1                   1       56                     2   \n",
       "1                      0                   1       17                     6   \n",
       "2                      0                   0       17                     0   \n",
       "3                      1                   0       49                     3   \n",
       "4                      0                   0       59                     1   \n",
       "...                  ...                 ...      ...                   ...   \n",
       "2234                   0                   1       70                     5   \n",
       "2235                   0                   1       53                     4   \n",
       "2236                   0                   0       39                     1   \n",
       "2237                   0                   1       31                     7   \n",
       "2238                   0                   1      100                     3   \n",
       "\n",
       "      WebPurchases  CatalogPurchases  ...  Duration_Customer  \\\n",
       "0                1                 1  ...                193   \n",
       "1                5                 1  ...                723   \n",
       "2                7                 4  ...                406   \n",
       "3                4                 1  ...                475   \n",
       "4                3                 7  ...                345   \n",
       "...            ...               ...  ...                ...   \n",
       "2234             9                 6  ...                754   \n",
       "2235             7                10  ...                682   \n",
       "2236             5                 1  ...                480   \n",
       "2237             4                 6  ...                500   \n",
       "2238             2                 2  ...                414   \n",
       "\n",
       "      months_Dur_Customer  day_of_week_name  is_month_end  is_month_start  \\\n",
       "0                       6            Sunday             0               0   \n",
       "1                      23           Tuesday             0               0   \n",
       "2                      13          Thursday             0               0   \n",
       "3                      15            Friday             0               0   \n",
       "4                      11           Tuesday             0               0   \n",
       "...                   ...               ...           ...             ...   \n",
       "2234                   24          Saturday             0               0   \n",
       "2235                   22            Monday             0               0   \n",
       "2236                   15            Sunday             0               0   \n",
       "2237                   16            Monday             0               0   \n",
       "2238                   13         Wednesday             0               0   \n",
       "\n",
       "      year_month  Recencyyear_month_mean  Recencyyear_month_std  \\\n",
       "0         2014_6               53.590164              30.163652   \n",
       "1         2013_1               56.645833              27.109128   \n",
       "2        2013_11               55.160000              28.999728   \n",
       "3         2013_9               52.218391              31.242646   \n",
       "4         2014_1               53.822785              30.751177   \n",
       "...          ...                     ...                    ...   \n",
       "2234     2012_12               52.000000              27.772888   \n",
       "2235      2013_2               53.035714              28.370753   \n",
       "2236      2013_9               52.218391              31.242646   \n",
       "2237      2013_8               57.153846              26.609645   \n",
       "2238     2013_11               55.160000              28.999728   \n",
       "\n",
       "      Recencyyear_month_min  Recencyyear_month_max  \n",
       "0                         7                    106  \n",
       "1                         7                    106  \n",
       "2                         7                    104  \n",
       "3                         7                    106  \n",
       "4                         7                    105  \n",
       "...                     ...                    ...  \n",
       "2234                      8                    104  \n",
       "2235                      8                    104  \n",
       "2236                      7                    106  \n",
       "2237                      9                    104  \n",
       "2238                      7                    104  \n",
       "\n",
       "[2239 rows x 40 columns]"
      ]
     },
     "execution_count": 135,
     "metadata": {},
     "output_type": "execute_result"
    }
   ],
   "source": [
    "#combine the year month feature  \n",
    "\n",
    "data['year_month'] = data['Date_Customer_year'].apply(str) + '_' + data['Date_Customer_month'].apply(str)\n",
    "\n",
    "# data['year_month_mean'] = data\n",
    "\n",
    "data['Recency' + 'year_month_mean'] =data.groupby('year_month')['Recency'].transform('mean')\n",
    "data['Recency' + 'year_month_std'] =data.groupby('year_month')['Recency'].transform('std')\n",
    "data['Recency' + 'year_month_min'] =data.groupby('year_month')['Recency'].transform('min')\n",
    "data['Recency' + 'year_month_max'] =data.groupby('year_month')['Recency'].transform('max')\n",
    "\n",
    "data"
   ]
  },
  {
   "cell_type": "code",
   "execution_count": 136,
   "id": "c0339c42-78b6-4378-a683-5086acc72d05",
   "metadata": {
    "executionInfo": {
     "elapsed": 159,
     "status": "aborted",
     "timestamp": 1658945184576,
     "user": {
      "displayName": "Hope Success",
      "userId": "17571223600285474034"
     },
     "user_tz": -60
    },
    "id": "c0339c42-78b6-4378-a683-5086acc72d05"
   },
   "outputs": [],
   "source": [
    "poly_feature_1 = ['Discounted_Purchases', 'WebPurchases', 'CatalogPurchases',\n",
    "       'StorePurchases']\n",
    "poly_feature_2 = ['Amount_on_Wines', 'Amount_on_Fruits',\n",
    "       'Amount_on_MeatProducts', 'Amount_on_FishProducts',\n",
    "       'Amount_on_SweetProducts', 'Amount_on_GoldProds']"
   ]
  },
  {
   "cell_type": "code",
   "execution_count": 137,
   "id": "823c5c35-fd8a-4ed6-9457-830a5741c859",
   "metadata": {
    "executionInfo": {
     "elapsed": 166,
     "status": "aborted",
     "timestamp": 1658945184583,
     "user": {
      "displayName": "Hope Success",
      "userId": "17571223600285474034"
     },
     "user_tz": -60
    },
    "id": "823c5c35-fd8a-4ed6-9457-830a5741c859"
   },
   "outputs": [],
   "source": [
    "from sklearn.preprocessing import PolynomialFeatures\n",
    "\n",
    "poly = PolynomialFeatures(degree=2, interaction_only=True, include_bias=False)\n",
    "\n",
    "poly1 = poly.fit_transform(data[poly_feature_1])\n",
    "poly2 = poly.fit_transform(data[poly_feature_2])\n",
    "\n",
    "\n",
    "df_poly1 = pd.DataFrame(poly1, columns=[f\"poly1_{i}\" for i in range(poly1.shape[1])])\n",
    "df_poly2 = pd.DataFrame(poly2, columns=[f\"poly2_{i}\" for i in range(poly2.shape[1])])\n",
    "\n",
    "new_data = pd.concat([data, df_poly1], axis = 1)\n",
    "new_data = pd.concat([new_data, df_poly2], axis = 1)\n",
    "\n",
    "data = new_data"
   ]
  },
  {
   "cell_type": "code",
   "execution_count": 138,
   "id": "aa12fd78-2999-4931-9e2c-b52a8025ad95",
   "metadata": {
    "executionInfo": {
     "elapsed": 170,
     "status": "aborted",
     "timestamp": 1658945184589,
     "user": {
      "displayName": "Hope Success",
      "userId": "17571223600285474034"
     },
     "user_tz": -60
    },
    "id": "aa12fd78-2999-4931-9e2c-b52a8025ad95"
   },
   "outputs": [
    {
     "data": {
      "text/plain": [
       "20"
      ]
     },
     "execution_count": 138,
     "metadata": {},
     "output_type": "execute_result"
    }
   ],
   "source": [
    "\n",
    "data['Rec_count'] = pd.qcut(data.Recency, q = [0, .2, .4, .6, .8, 1], labels=False)\n",
    "data['Web_count'] = pd.qcut(data.WebVisitsMonth, q = [0, .2, .4, .6, .8, 1], labels=False)\n",
    "\n",
    "# data['Age'] = Today.year - data['Year_of_Birth'] \n",
    "\n",
    "data['WebVisitsMonth'].max()"
   ]
  },
  {
   "cell_type": "code",
   "execution_count": 139,
   "id": "0eb3d108-efda-4a26-9799-02f81f48896f",
   "metadata": {
    "executionInfo": {
     "elapsed": 172,
     "status": "aborted",
     "timestamp": 1658945184593,
     "user": {
      "displayName": "Hope Success",
      "userId": "17571223600285474034"
     },
     "user_tz": -60
    },
    "id": "0eb3d108-efda-4a26-9799-02f81f48896f"
   },
   "outputs": [],
   "source": [
    "data['total_kids'] = data['No_of_Kids_in_home'] + data['No_of_Teen_in_home']\n",
    "\n",
    "\n",
    "data['total_purchase'] = data['WebPurchases'] + data['CatalogPurchases'] + data['StorePurchases']\n",
    "\n",
    "data['tot_food_price'] = data['Amount_on_Fruits'] + data['Amount_on_MeatProducts']+ data['Amount_on_Wines'] + data['Amount_on_FishProducts'] + data['Amount_on_SweetProducts'] + data['Amount_on_GoldProds']\n",
    "\n",
    "#data['Amount_on_Wines']+ \n",
    "\n",
    "data['wine_frac'] = data['Amount_on_Wines'] / data['tot_food_price']\n",
    "\n",
    "data['fish_net'] = data['tot_food_price']  - data['Amount_on_FishProducts'] \n",
    "\n",
    "\n",
    "data['gold_dis'] = data['Amount_on_GoldProds'] / data['Disposable_Income']  \n",
    "\n",
    "\n",
    "data['meat_dis'] = data['Amount_on_MeatProducts'] / data['Disposable_Income']  \n",
    "\n",
    "data['wine_dis'] = data['Amount_on_Wines'] / data['Disposable_Income']  \n",
    "\n",
    "\n",
    "data['food_dis'] = data['Disposable_Income']  - data['tot_food_price'] \n"
   ]
  },
  {
   "cell_type": "markdown",
   "id": "9d746b36-7421-4d56-8280-6060464171e2",
   "metadata": {
    "id": "9d746b36-7421-4d56-8280-6060464171e2"
   },
   "source": [
    "# Model building"
   ]
  },
  {
   "cell_type": "code",
   "execution_count": 140,
   "id": "a233173c-fba5-491a-a709-80857de2c596",
   "metadata": {
    "executionInfo": {
     "elapsed": 175,
     "status": "aborted",
     "timestamp": 1658945184597,
     "user": {
      "displayName": "Hope Success",
      "userId": "17571223600285474034"
     },
     "user_tz": -60
    },
    "id": "a233173c-fba5-491a-a709-80857de2c596"
   },
   "outputs": [],
   "source": [
    "#list of selected features\n",
    "\n",
    "feat= ['Recency', 'year_month', 'Rec_count', 'Cmp3Accepted', 'Cmp5Accepted',\n",
    "       'Cmp1Accepted', 'WebVisitsMonth', 'Marital_Status', 'wine_frac',\n",
    "       'Duration_Customer', 'gold_dis', 'No_of_Teen_in_home', 'Web_count',\n",
    "       'poly2_7', 'poly2_2', 'StorePurchases', 'Disposable_Income', 'poly1_3',\n",
    "       'months_Dur_Customer', 'poly2_5', 'poly1_7', 'Education_Level',\n",
    "       'poly2_11', 'total_kids', 'food_dis', 'poly1_9',\n",
    "       'Amount_on_MeatProducts', 'Cmp4Accepted', 'poly2_17', 'fish_net',\n",
    "       'poly2_3', 'meat_dis', 'poly1_2', 'poly2_10', 'CatalogPurchases',\n",
    "       'Amount_on_FishProducts', 'WebPurchases', 'day_of_week_name', 'poly1_8',\n",
    "       'Amount_on_GoldProds','Response']\n",
    "\n",
    "\n",
    "\n",
    "\n",
    "data = data[feat]\n",
    "\n"
   ]
  },
  {
   "cell_type": "code",
   "execution_count": 141,
   "id": "66c87322-46d7-437e-acbd-946817562ed2",
   "metadata": {
    "executionInfo": {
     "elapsed": 181,
     "status": "aborted",
     "timestamp": 1658945184604,
     "user": {
      "displayName": "Hope Success",
      "userId": "17571223600285474034"
     },
     "user_tz": -60
    },
    "id": "66c87322-46d7-437e-acbd-946817562ed2"
   },
   "outputs": [
    {
     "name": "stdout",
     "output_type": "stream",
     "text": [
      "(672, 40)\n",
      "(1567, 41)\n"
     ]
    }
   ],
   "source": [
    "\n",
    "#split the data into features and target\n",
    "test =data[data['Response'] == 2]\n",
    "test.drop(['Response'],1,inplace =True)\n",
    "\n",
    "\n",
    "\n",
    "print(test.shape)\n",
    "\n",
    "train =data[data['Response'] != 2]\n",
    "#train_b= train_b.astype('float64')\n",
    "\n",
    "# train_b = drop_outliers(train_b,3)\n",
    "\n",
    "\n",
    "test.isnull().sum()\n",
    "\n",
    "print(train.shape)"
   ]
  },
  {
   "cell_type": "code",
   "execution_count": 142,
   "id": "b7a2a3e4-b96c-47c7-9a00-dfc53cdf4b30",
   "metadata": {
    "executionInfo": {
     "elapsed": 196,
     "status": "aborted",
     "timestamp": 1658945184620,
     "user": {
      "displayName": "Hope Success",
      "userId": "17571223600285474034"
     },
     "user_tz": -60
    },
    "id": "b7a2a3e4-b96c-47c7-9a00-dfc53cdf4b30"
   },
   "outputs": [],
   "source": [
    "\n",
    "t_target = train['Response']\n",
    "\n",
    "t_data = train.drop(['Response'],1).reset_index(drop=True)"
   ]
  },
  {
   "cell_type": "code",
   "execution_count": 143,
   "id": "233ae3c3-fb72-4f2f-8884-807e0c75d809",
   "metadata": {
    "executionInfo": {
     "elapsed": 197,
     "status": "aborted",
     "timestamp": 1658945184622,
     "user": {
      "displayName": "Hope Success",
      "userId": "17571223600285474034"
     },
     "user_tz": -60
    },
    "id": "233ae3c3-fb72-4f2f-8884-807e0c75d809"
   },
   "outputs": [
    {
     "data": {
      "image/png": "[encoded data removed]",
      "text/plain": [
       "<Figure size 504x1080 with 1 Axes>"
      ]
     },
     "metadata": {
      "needs_background": "light"
     },
     "output_type": "display_data"
    }
   ],
   "source": [
    "#Mutual information for feature selection\n",
    "\n",
    "rf = t_data.copy()\n",
    "\n",
    "\n",
    "# Label encoding for categoricals\n",
    "for colname in rf.select_dtypes([\"object\",\"category\"]):\n",
    "    rf[colname], _ = rf[colname].factorize()\n",
    "\n",
    "# All discrete features should now have integer dtypes (double-check this before using MI!)\n",
    "discrete_features = rf.dtypes == int\n",
    "\n",
    "\n",
    "\n",
    "from sklearn.feature_selection import mutual_info_regression\n",
    "\n",
    "def make_mi_scores(X, y, discrete_features):\n",
    "    mi_scores = mutual_info_regression(X, y, discrete_features=discrete_features)\n",
    "    mi_scores = pd.Series(mi_scores, name=\"MI Scores\", index=X.columns)\n",
    "    mi_scores = mi_scores.sort_values(ascending=False)\n",
    "    return mi_scores\n",
    "\n",
    "# fr = rf.drop('location',1)\n",
    "\n",
    "mi_scores = make_mi_scores(rf, t_target, discrete_features)\n",
    "# mi_scores[::3]\n",
    "# mi_scores[::3][mi_scores[::3] > 0.001]\n",
    "\n",
    "\n",
    "#Plot mutual information\n",
    "def plot_mi_scores(scores):\n",
    "    scores = scores.sort_values(ascending=False)\n",
    "    \n",
    "    \n",
    "    plt.figure(figsize=(7,15))\n",
    "    plt.xticks(rotation= 30)\n",
    "    \n",
    "\n",
    "    sns.barplot(x=scores , y= scores.index) \n",
    "    plt.show()\n",
    "    \n",
    "   \n",
    "\n",
    "    #pram ={'criterion': 'entropy', 'max_depth': 2, 'max_features': 22, 'max_leaf_nodes': 123, 'min_samples_leaf': 14,\n",
    "       #'min_samples_split': 42, 'min_weight_fraction_leaf': 0.010574958266160707,'random_state':SEED}\n",
    "\n",
    "# plt.figure(dpi=100, figsize=(8, 5))\n",
    "\n",
    "plot_mi_scores(mi_scores)\n",
    "\n",
    "\n"
   ]
  },
  {
   "cell_type": "code",
   "execution_count": 144,
   "id": "5TTJdEwb1f0p",
   "metadata": {
    "executionInfo": {
     "elapsed": 192,
     "status": "aborted",
     "timestamp": 1658945184627,
     "user": {
      "displayName": "Hope Success",
      "userId": "17571223600285474034"
     },
     "user_tz": -60
    },
    "id": "5TTJdEwb1f0p"
   },
   "outputs": [],
   "source": [
    "train_x, test_x, train_y, test_y = train_test_split(t_data, t_target, stratify= t_target,test_size=0.2,\n",
    "                                                    random_state=SEED)\n",
    "\n",
    "param = {'learning_rate': 0.143373511155058,'reg_lambda': 3.579661579314026, 'reg_alpha': 4.805773216010388e-08, 'subsample': 0.48731004944996775,\n",
    " 'colsample_bytree': 0.7142487807145416,'max_depth': 5,'scale_pos_weight': 5}\n",
    "\n",
    "ordi = OrdinalEncoder(cols=train_x[['Education_Level','Marital_Status']]) \n",
    "trg = TargetEncoder(cols=train_x[['year_month','day_of_week_name']])\n",
    "\n",
    "Light = lg.LGBMClassifier(**param ,n_estimators=100,random_state=SEED)\n",
    "Logistic = LogisticRegression(class_weight='balanced',random_state=SEED)"
   ]
  },
  {
   "cell_type": "code",
   "execution_count": 145,
   "id": "7f6a7d50-b5cb-4ea8-a40d-cd77f7b44aec",
   "metadata": {
    "executionInfo": {
     "elapsed": 187,
     "status": "aborted",
     "timestamp": 1658945184627,
     "user": {
      "displayName": "Hope Success",
      "userId": "17571223600285474034"
     },
     "user_tz": -60
    },
    "id": "7f6a7d50-b5cb-4ea8-a40d-cd77f7b44aec"
   },
   "outputs": [
    {
     "name": "stdout",
     "output_type": "stream",
     "text": [
      "Light accuracy :  0.8694267515923567 \t\n",
      "Logistic accuracy : 0.7420382165605095\n"
     ]
    }
   ],
   "source": [
    "\n",
    "#pipeline for lightgbm\n",
    "step = [ ('encoder', ordi),('enc', trg),('lgbm',Light)] \n",
    "pipeline = Pipeline(step)\n",
    "pipeline = pipeline.fit(train_x,train_y)\n",
    "preds = pipeline.predict(test_x)\n",
    "\n",
    "#pipeline for logistic regression\n",
    "step = [ ('encoder', ordi),('enc', trg),('lgbm', Logistic)] \n",
    "pipeline = Pipeline(step)\n",
    "pipeline = pipeline.fit(train_x,train_y)\n",
    "pred_Logistic = pipeline.predict(test_x)\n",
    "\n",
    "Light_accuracy  = accuracy_score(test_y,preds)\n",
    "Logistic_accuracy  = accuracy_score(test_y,pred_Logistic)\n",
    "\n",
    "\n",
    "print('Light accuracy : ',Light_accuracy, '\\t')\n",
    "print('Logistic accuracy :',Logistic_accuracy) \n"
   ]
  },
  {
   "cell_type": "code",
   "execution_count": 153,
   "id": "bc8dd125",
   "metadata": {},
   "outputs": [
    {
     "name": "stdout",
     "output_type": "stream",
     "text": [
      "[[242  24]\n",
      " [ 17  31]]\n"
     ]
    },
    {
     "data": {
      "image/png": "[encoded data removed]",
      "text/plain": [
       "<Figure size 648x360 with 2 Axes>"
      ]
     },
     "metadata": {
      "needs_background": "light"
     },
     "output_type": "display_data"
    },
    {
     "data": {
      "text/plain": [
       "<Figure size 720x432 with 0 Axes>"
      ]
     },
     "metadata": {},
     "output_type": "display_data"
    }
   ],
   "source": [
    "#Lightgbm confusion matrix\n",
    "\n",
    "ax= plt.subplot()\n",
    "cm= confusion_matrix(test_y,preds)\n",
    "print(cm)\n",
    "sns.heatmap(cm, annot= True, ax= ax);\n",
    "plt.figure(figsize=(10,6))\n",
    "ax.set_xlabel(\"predicted\"); ax.set_ylabel(\"True\");\n",
    "ax.set_title(\"Lightgbm Confusion Matrix\");"
   ]
  },
  {
   "cell_type": "code",
   "execution_count": 154,
   "id": "b81a9c90",
   "metadata": {},
   "outputs": [
    {
     "name": "stdout",
     "output_type": "stream",
     "text": [
      "[[195  71]\n",
      " [ 10  38]]\n"
     ]
    },
    {
     "data": {
      "image/png": "[encoded data removed]",
      "text/plain": [
       "<Figure size 648x360 with 2 Axes>"
      ]
     },
     "metadata": {
      "needs_background": "light"
     },
     "output_type": "display_data"
    },
    {
     "data": {
      "text/plain": [
       "<Figure size 720x432 with 0 Axes>"
      ]
     },
     "metadata": {},
     "output_type": "display_data"
    }
   ],
   "source": [
    "#Logistic regression confusion matrix\n",
    "\n",
    "ax= plt.subplot()\n",
    "cm= confusion_matrix(test_y,pred_Logistic)\n",
    "print(cm)\n",
    "sns.heatmap(cm, annot= True, ax= ax);\n",
    "plt.figure(figsize=(10,6))\n",
    "ax.set_xlabel(\"predicted\"); ax.set_ylabel(\"True\");\n",
    "ax.set_title(\"Logistic Regression Confusion Matrix\");"
   ]
  },
  {
   "cell_type": "code",
   "execution_count": 149,
   "id": "810bca2b",
   "metadata": {},
   "outputs": [
    {
     "data": {
      "text/plain": [
       "<AxesSubplot:ylabel='Density'>"
      ]
     },
     "execution_count": 149,
     "metadata": {},
     "output_type": "execute_result"
    },
    {
     "data": {
      "image/png": "[encoded data removed]",
      "text/plain": [
       "<Figure size 648x360 with 1 Axes>"
      ]
     },
     "metadata": {
      "needs_background": "light"
     },
     "output_type": "display_data"
    }
   ],
   "source": [
    "#distibution of predicted values\n",
    "sns.distplot(preds)\n",
    "\n",
    "\n",
    "\n",
    "\n",
    "\n",
    "# print(confusion_matrix(test_y,pred))\n",
    "# print(classification_report(test_y,pred))\n",
    "\n",
    "# # print(pipeline.get_params())\n",
    "\n",
    "# print(pred)\n"
   ]
  },
  {
   "cell_type": "code",
   "execution_count": 158,
   "id": "e2a31b06-8e3b-442d-af04-143ca355d343",
   "metadata": {
    "executionInfo": {
     "elapsed": 187,
     "status": "aborted",
     "timestamp": 1658945184628,
     "user": {
      "displayName": "Hope Success",
      "userId": "17571223600285474034"
     },
     "user_tz": -60
    },
    "id": "e2a31b06-8e3b-442d-af04-143ca355d343"
   },
   "outputs": [
    {
     "data": {
      "text/plain": [
       "Text(0.5, 1.0, 'Model features importance:')"
      ]
     },
     "execution_count": 158,
     "metadata": {},
     "output_type": "execute_result"
    },
    {
     "data": {
      "image/png": "[encoded data removed]",
      "text/plain": [
       "<Figure size 1080x648 with 1 Axes>"
      ]
     },
     "metadata": {
      "needs_background": "light"
     },
     "output_type": "display_data"
    }
   ],
   "source": [
    "\n",
    "\n",
    "feature_importance_df = pd.DataFrame(Light.feature_importances_, columns=['importance'])\n",
    "feature_importance_df['feature'] = train_x.columns\n",
    "\n",
    "plt.figure(figsize=(15, 9));\n",
    "sns.barplot(x=\"importance\", y=\"feature\", data=feature_importance_df.sort_values(by = ['importance'], ascending = False).head(60))\n",
    "plt.title('Model features importance:')"
   ]
  },
  {
   "cell_type": "code",
   "execution_count": 148,
   "id": "38667850",
   "metadata": {},
   "outputs": [],
   "source": [
    "filename = 'campaign_model.sav'\n",
    "with open(filename,'wb') as ft:\n",
    "    pickle.dump(pipeline, ft)"
   ]
  }
 ],
 "metadata": {
  "colab": {
   "collapsed_sections": [],
   "name": "Experimental.ipynb",
   "provenance": []
  },
  "gpuClass": "standard",
  "kernelspec": {
   "display_name": "Python 3.10.5 64-bit",
   "language": "python",
   "name": "python3"
  },
  "language_info": {
   "codemirror_mode": {
    "name": "ipython",
    "version": 3
   },
   "file_extension": ".py",
   "mimetype": "text/x-python",
   "name": "python",
   "nbconvert_exporter": "python",
   "pygments_lexer": "ipython3",
   "version": "3.10.5"
  },
  "vscode": {
   "interpreter": {
    "hash": "a09c02962fb8aced7ae43b4daf33da758c7fd83e4daf489e1408e1120680a966"
   }
  }
 },
 "nbformat": 4,
 "nbformat_minor": 5
}
